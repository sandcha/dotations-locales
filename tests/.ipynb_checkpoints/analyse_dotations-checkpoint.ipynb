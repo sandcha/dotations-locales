{
 "cells": [
  {
   "cell_type": "markdown",
   "id": "cb103adb",
   "metadata": {},
   "source": [
    "# Dotations : Analyse des évolutions 2020 et 2021"
   ]
  },
  {
   "cell_type": "code",
   "execution_count": 1,
   "id": "a42c5cbb",
   "metadata": {},
   "outputs": [],
   "source": [
    "# Activate multi-output in notebook\n",
    "# %matplotlib inline (pour des graphes)\n",
    "from IPython.core.interactiveshell import InteractiveShell\n",
    "InteractiveShell.ast_node_interactivity = \"all\""
   ]
  },
  {
   "cell_type": "markdown",
   "id": "8bf36020",
   "metadata": {},
   "source": [
    "## Parcours des données"
   ]
  },
  {
   "cell_type": "markdown",
   "id": "9310ce48",
   "metadata": {},
   "source": [
    "### Chargement des données en mémoire"
   ]
  },
  {
   "cell_type": "code",
   "execution_count": 2,
   "id": "optimum-reliance",
   "metadata": {},
   "outputs": [],
   "source": [
    "from os import getcwd\n",
    "from pandas import DataFrame, read_csv\n",
    "\n",
    "\n",
    "DATA_DIRECTORY = getcwd() + \"/../data/\"\n",
    "\n",
    "# DGCL data\n",
    "DATA_2020_PATH = DATA_DIRECTORY + \"2020-communes-criteres-repartition.csv\"\n",
    "DATA_2021_PATH = DATA_DIRECTORY + \"2021-communes-criteres-repartition.csv\"\n",
    "\n",
    "# Garanties DSU estimées\n",
    "GARANTIES_DSU_PATH = DATA_DIRECTORY + \"garanties_dsu.csv\""
   ]
  },
  {
   "cell_type": "code",
   "execution_count": 6,
   "id": "legitimate-chaos",
   "metadata": {},
   "outputs": [
    {
     "ename": "NameError",
     "evalue": "name 'load_dgcl_data' is not defined",
     "output_type": "error",
     "traceback": [
      "\u001b[0;31m---------------------------------------------------------------------------\u001b[0m",
      "\u001b[0;31mNameError\u001b[0m                                 Traceback (most recent call last)",
      "\u001b[0;32m/var/folders/6j/g2pqrjdd17bfw3f59gdj03dm0000gn/T/ipykernel_37027/2518839562.py\u001b[0m in \u001b[0;36m<module>\u001b[0;34m\u001b[0m\n\u001b[0;32m----> 1\u001b[0;31m \u001b[0mdgcl_data_2020\u001b[0m \u001b[0;34m=\u001b[0m \u001b[0mload_dgcl_data\u001b[0m\u001b[0;34m.\u001b[0m\u001b[0mload_dgcl_file\u001b[0m\u001b[0;34m(\u001b[0m\u001b[0mDATA_2020_PATH\u001b[0m\u001b[0;34m)\u001b[0m\u001b[0;34m\u001b[0m\u001b[0;34m\u001b[0m\u001b[0m\n\u001b[0m\u001b[1;32m      2\u001b[0m \u001b[0madapted_data_2020\u001b[0m \u001b[0;34m=\u001b[0m \u001b[0madapt_dgcl_data\u001b[0m\u001b[0;34m(\u001b[0m\u001b[0mdgcl_data_2020\u001b[0m\u001b[0;34m)\u001b[0m\u001b[0;34m\u001b[0m\u001b[0;34m\u001b[0m\u001b[0m\n\u001b[1;32m      3\u001b[0m \u001b[0;34m\u001b[0m\u001b[0m\n\u001b[1;32m      4\u001b[0m \u001b[0mdgcl_data_2021\u001b[0m \u001b[0;34m=\u001b[0m \u001b[0mload_dgcl_file\u001b[0m\u001b[0;34m(\u001b[0m\u001b[0mDATA_2021_PATH\u001b[0m\u001b[0;34m)\u001b[0m\u001b[0;34m\u001b[0m\u001b[0;34m\u001b[0m\u001b[0m\n\u001b[1;32m      5\u001b[0m \u001b[0madapted_data_2021\u001b[0m \u001b[0;34m=\u001b[0m \u001b[0madapt_dgcl_data\u001b[0m\u001b[0;34m(\u001b[0m\u001b[0mdgcl_data_2021\u001b[0m\u001b[0;34m)\u001b[0m\u001b[0;34m\u001b[0m\u001b[0;34m\u001b[0m\u001b[0m\n",
      "\u001b[0;31mNameError\u001b[0m: name 'load_dgcl_data' is not defined"
     ]
    }
   ],
   "source": [
    "from scripts.load_dgcl_data import load_dgcl_file, adapt_dgcl_data\n",
    "\n",
    "dgcl_data_2020 = load_dgcl_file(DATA_2020_PATH)\n",
    "adapted_data_2020 = adapt_dgcl_data(dgcl_data_2020)\n",
    "\n",
    "dgcl_data_2021 = load_dgcl_file(DATA_2021_PATH)\n",
    "adapted_data_2021 = adapt_dgcl_data(dgcl_data_2021)\n"
   ]
  },
  {
   "cell_type": "code",
   "execution_count": null,
   "id": "e6b35f43",
   "metadata": {},
   "outputs": [],
   "source": [
    "# Colonnes des données brutes\n",
    "len(dgcl_data_2021.keys())"
   ]
  },
  {
   "cell_type": "code",
   "execution_count": null,
   "id": "f1627438",
   "metadata": {},
   "outputs": [],
   "source": [
    "# Colonnes des données adaptées \n",
    "# 34 colonnes en 2021\n",
    "# n'incluent pas \"dsu_montant_garantie_pluriannuelle\"\n",
    "adapted_data_2021.keys()"
   ]
  },
  {
   "cell_type": "code",
   "execution_count": null,
   "id": "tired-interstate",
   "metadata": {},
   "outputs": [],
   "source": [
    "adapted_data_2021"
   ]
  },
  {
   "cell_type": "markdown",
   "id": "4bccea8c",
   "metadata": {},
   "source": [
    "### Analyse d'une commune"
   ]
  },
  {
   "cell_type": "code",
   "execution_count": null,
   "id": "45532ffd",
   "metadata": {},
   "outputs": [],
   "source": [
    "# Exemple de récupération des données d'une commune.\n",
    "# Données avant intégration des communes nouvelles et des garanties DSU.\n",
    "\n",
    "def get_commune_data(data, code_insee_commune):\n",
    "    return data.loc[data[\"Informations générales - Code INSEE de la commune\"] == code_insee_commune]\n",
    "\n",
    "CODE_INSEE_UNE_COMMUNE = \"01001\"\n",
    "\n",
    "# On récupère les données de la commune des jeux de données adaptés \n",
    "# car ils contiennent les mêmes noms de colonnes (pas toujours vrai des données DGCL)\n",
    "df_commune_2020 = get_commune_data(adapted_data_2020, CODE_INSEE_UNE_COMMUNE)\n",
    "df_commune_2021 = get_commune_data(adapted_data_2021, CODE_INSEE_UNE_COMMUNE)\n",
    "\n",
    "NOM_COMMUNE = df_commune_2021[\"Informations générales - Nom de la commune\"].values[0]\n",
    "print(\"Commune analysée : \" + NOM_COMMUNE)"
   ]
  },
  {
   "cell_type": "code",
   "execution_count": null,
   "id": "5332da21",
   "metadata": {},
   "outputs": [],
   "source": [
    "import numpy as np\n",
    "from pandas import DataFrame\n",
    "\n",
    "\n",
    "def get_dataframes_diff(df1, df2, df1_title, df2_title):\n",
    "    # src code : \n",
    "    # https://stackoverflow.com/questions/17095101/compare-two-dataframes-and-output-their-differences-side-by-side\n",
    "\n",
    "    differences = (df1 != df2)\n",
    "    differences_stacked = differences.stack()\n",
    "    changed = differences_stacked[differences_stacked]\n",
    "\n",
    "    difference_locations = np.where(differences)\n",
    "    changed_from = df1.values[difference_locations]\n",
    "    changed_to = df2.values[difference_locations]\n",
    "\n",
    "    df_evolution = DataFrame({df1_title: changed_from, df2_title: changed_to}, index=changed.index)\n",
    "    df_evolution = df_evolution.style.set_caption(NOM_COMMUNE + \", évolution des données :\")\n",
    "    return df_evolution\n",
    "\n",
    "# Affiche les colonnes ayant évolué dans le temps (et seulement elles)\n",
    "get_dataframes_diff(df_commune_2020, df_commune_2021, '2020', '2021')"
   ]
  },
  {
   "cell_type": "markdown",
   "id": "f4ca044d",
   "metadata": {
    "raw_mimetype": "text/markdown"
   },
   "source": [
    "## Intégration de données complémentaires\n",
    "Complétion des données par les évolutions de situation des communes"
   ]
  },
  {
   "cell_type": "code",
   "execution_count": null,
   "id": "77e982d1",
   "metadata": {},
   "outputs": [],
   "source": [
    "# Initialisation du nouveau jeu de données\n",
    "\n",
    "fully_adapted_data_2021 = adapted_data_2021"
   ]
  },
  {
   "cell_type": "markdown",
   "id": "1ddb7c2f",
   "metadata": {},
   "source": [
    "### Ajout des garanties DSU"
   ]
  },
  {
   "cell_type": "code",
   "execution_count": null,
   "id": "b6d6c287",
   "metadata": {},
   "outputs": [],
   "source": [
    "from pandas import read_csv\n",
    "from dotations.load_dgcl_data import insert_dsu_garanties\n",
    "\n",
    "# Chargement des garanties DSU toutes périodes\n",
    "# TODO 2022 où toutes les valeurs sont à zéro + de nouvelles communes peuvent manquer\n",
    "garanties_dsu = read_csv(GARANTIES_DSU_PATH, dtype={\"Informations générales - Nom de la commune\": str})\n",
    "\n",
    "# Insertion des garanties 2021 au titre de la DSU (non calculées explicitement dans OFDL)\n",
    "fully_adapted_data_2021 = insert_dsu_garanties(fully_adapted_data_2021, \"2021\", GARANTIES_DSU_PATH)"
   ]
  },
  {
   "cell_type": "markdown",
   "id": "aa2ea2b5",
   "metadata": {},
   "source": [
    "### Ajout des garanties communes nouvelles"
   ]
  },
  {
   "cell_type": "code",
   "execution_count": null,
   "id": "6582bf5b",
   "metadata": {},
   "outputs": [],
   "source": [
    "from dotations.load_dgcl_data import insert_dsr_garanties_communes_nouvelles\n",
    "\n",
    "\n",
    "# Insertion des garanties communes nouvelles au titre de la DSR (non calculées explicitement dans OFDL)\n",
    "fully_adapted_data_2021 = insert_dsr_garanties_communes_nouvelles(fully_adapted_data_2021, \"2021\")"
   ]
  },
  {
   "cell_type": "code",
   "execution_count": null,
   "id": "3e6b3372",
   "metadata": {},
   "outputs": [],
   "source": [
    "fully_adapted_data_2021.keys()  # 38 colonnes en 2021 (contre 34 initialement)"
   ]
  },
  {
   "cell_type": "markdown",
   "id": "fc59c674",
   "metadata": {},
   "source": [
    "### Analyse des garanties DSU\n",
    "\n",
    "#### Quelles sont les communes ayant une garantie DSU en 2021 ?"
   ]
  },
  {
   "cell_type": "code",
   "execution_count": null,
   "id": "01d66522",
   "metadata": {},
   "outputs": [],
   "source": [
    "def filter_communes_on_column_value(data, column_name, filter):\n",
    "    # ex : fully_adapted_data_2021.loc[fully_adapted_data_2021[\"dsu_montant_garantie_pluriannuelle\"] > 0]\n",
    "    filtered_data = data.loc[filter(data[column_name])]\n",
    "    \n",
    "    return filtered_data[\n",
    "            ['Informations générales - Code INSEE de la commune',\n",
    "             'Informations générales - Nom de la commune',\n",
    "             column_name\n",
    "            ]\n",
    "        ]\n",
    "\n",
    "# Communes ayant une garantie DSU en 2021\n",
    "\n",
    "communes_gdsu_integrees_2021 = filter_communes_on_column_value(fully_adapted_data_2021, \"dsu_montant_garantie_pluriannuelle\", lambda serie: serie > 0)\n",
    "# ce sont les même communes que celles avec une garantie DSU dans la colonne \"2021\" \n",
    "# du fichier de garanties et qu'on peut voir avec :\n",
    "# communes_gdsu_initiales_2021 = garanties_dsu.loc[garanties_dsu[\"2021\"] > 0][\n",
    "#            ['Informations générales - Code INSEE de la commune',\n",
    "#             'Nom de la commune',\n",
    "#             '2021'\n",
    "#            ]\n",
    "# ]\n",
    "\n",
    "\n",
    "print(str(len(communes_gdsu_integrees_2021)) + \" communes ont une garantie DSU en 2021 d'après \" + GARANTIES_DSU_PATH)"
   ]
  },
  {
   "cell_type": "code",
   "execution_count": null,
   "id": "aa869f7f",
   "metadata": {},
   "outputs": [],
   "source": [
    "# TODO remplacer les garanties estimées pour 2021 par les garanties publiées par la DGCL\n",
    "\n",
    "communes_gdsu_integrees_2021"
   ]
  },
  {
   "cell_type": "markdown",
   "id": "ffed985a",
   "metadata": {},
   "source": [
    "#### Peut-on déduire la garantie DSU 2022 des communes ayant une garantie DSU en 2021 ?\n",
    "> TODO Vérifier le périmètre couvert d'après l'ensemble règles de garantie DSU."
   ]
  },
  {
   "cell_type": "markdown",
   "id": "57725e69",
   "metadata": {},
   "source": [
    "🍁 Cas 1 : Une garantie en 2021 seulement. \n",
    "La commune serait sortie de la DSU depuis 1 an seulement. \n",
    "On soustrait 10% pour trouver la garantie 2022."
   ]
  },
  {
   "cell_type": "code",
   "execution_count": null,
   "id": "a88fd1cb",
   "metadata": {},
   "outputs": [],
   "source": [
    "filtre_dsu_2021_only = (garanties_dsu[\"2020\"] == 0) & (garanties_dsu[\"2021\"] > 0)\n",
    "garanties_dsu_2021 = garanties_dsu.loc[filtre_dsu_2021_only]\n",
    "\n",
    "print(str(len(garanties_dsu_2021)) + \" commune(s) ont une garantie DSU depuis 2021 seulement.\")"
   ]
  },
  {
   "cell_type": "markdown",
   "id": "952ebe85",
   "metadata": {},
   "source": [
    "🍁 Cas 2 : Une garantie depuis plus d'un an. Avec au moins une garantie en 2021 et 2020, on peut déduire la différence de montant et la soustraire à 2021 pour obtenir la garantie 2022."
   ]
  },
  {
   "cell_type": "code",
   "execution_count": null,
   "id": "7ce0522f",
   "metadata": {},
   "outputs": [],
   "source": [
    "# Communes ayant une garantie DSU en 2020 et 2021\n",
    "filtre_dsu_2020_2021 = (garanties_dsu[\"2020\"] > 0) & (garanties_dsu[\"2021\"] > 0) \n",
    "garanties_dsu_2020_2021 = garanties_dsu.loc[filtre_dsu_2020_2021]\n",
    "\n",
    "# Avant calcul 2022\n",
    "garanties_dsu_2020_2021"
   ]
  },
  {
   "cell_type": "code",
   "execution_count": null,
   "id": "99bd074a",
   "metadata": {},
   "outputs": [],
   "source": [
    "delta_2020_2021 = garanties_dsu_2020_2021[\"2020\"] - garanties_dsu_2020_2021[\"2021\"]\n",
    "garanties_dsu_2022 = garanties_dsu_2020_2021[\"2021\"] - delta_2020_2021\n",
    "\n",
    "garanties_dsu.loc[filtre_dsu_2020_2021, \"2022\"] = garanties_dsu_2022.clip(lower=0)\n",
    "\n",
    "# Après calcul 2022 (pour les communes ayant une garantie en 2020 et 2021)\n",
    "garanties_dsu[filtre_dsu_2020_2021]"
   ]
  },
  {
   "cell_type": "markdown",
   "id": "5c25c1c7",
   "metadata": {},
   "source": [
    "🍁 Cas 3 ? : La commune percevait la DSU en 2021 mais, avec les données DGCL 2021, on estime qu'elle ne percevra pas la DSU en 2022. Pas possible au regard des informations mais vérifier après mise à jour des garanties avec les nouvelles données ?\n",
    "\n",
    "+ TODO : vérifier autres cas de garanties DSU."
   ]
  },
  {
   "cell_type": "markdown",
   "id": "76001038",
   "metadata": {},
   "source": [
    "### Communes nouvelles 2021\n",
    "> Objectif : créer un fichier assets/data/garanties_cn_dsr_2021.csv\n",
    "> avec pour colonnes : \n",
    "> Informations générales - Code INSEE de la commune,\n",
    "> nom_commune,\n",
    "> dsr_garantie_commune_nouvelle_fraction_cible,\n",
    "> dsr_garantie_commune_nouvelle_fraction_perequation,\n",
    "> dsr_garantie_commune_nouvelle_fraction_bourg_centre"
   ]
  },
  {
   "cell_type": "code",
   "execution_count": null,
   "id": "acdb0a3b",
   "metadata": {},
   "outputs": [],
   "source": [
    "# Communes nouvelles 2021\n",
    "# https://fr.wikipedia.org/wiki/Liste_des_communes_nouvelles_créées_en_2021\n",
    "\n",
    "# 16233 - Mosnac-Saint-Simeux - Chef lieu : Mosnac\n",
    "# était : Mosnac + Saint-Simeux\n",
    "filter_code_mosnac = adapted_data_2021['Informations générales - Code INSEE de la commune'] == '16233'\n",
    "filter_nom_mosnac = adapted_data_2021['Informations générales - Nom de la commune'] == 'MOSNAC-SAINT-SIMEUX'\n",
    "adapted_data_2021.loc[filter_code_mosnac]\n",
    "\n",
    "\n",
    "# 53249 - Vimartin-sur-Orthe - Chef lieu : Saint-Pierre-sur-Orthe\n",
    "# était : Saint-Martin-de-Connée, Saint-Pierre-sur-Orthe et Vimarcé\n",
    "filter_code_vimartin_sur_orthe = adapted_data_2021['Informations générales - Code INSEE de la commune'] == '53249'\n",
    "adapted_data_2021.loc[filter_code_vimartin_sur_orthe]\n"
   ]
  },
  {
   "cell_type": "code",
   "execution_count": null,
   "id": "bfabe40e",
   "metadata": {},
   "outputs": [],
   "source": [
    "from openfisca_france_dotations_locales import CountryTaxBenefitSystem as DotationsLocales\n",
    "\n",
    "from dotations.simulation import simulation_from_dgcl_csv\n",
    "from dotations.load_dgcl_data import get_last_year_dotations\n",
    "\n",
    "\n",
    "tbs = DotationsLocales()\n",
    "\n",
    "results_2020_as_last_year = get_last_year_dotations(dgcl_data_2020)\n",
    "data_2020_as_last_year = results_2020_as_last_year[[\n",
    "    \"Informations générales - Code INSEE de la commune\", \n",
    "    \"dsu_montant_eligible\", \n",
    "    \"dsr_montant_eligible_fraction_bourg_centre\", \n",
    "    \"dsr_montant_eligible_fraction_perequation\", \n",
    "    \"dsr_montant_hors_garanties_fraction_cible\", \n",
    "    \"population_dgf_majoree\", \n",
    "    \"dotation_forfaitaire\"\n",
    "]]\n",
    "\n",
    "\n",
    "\n",
    "# Simulation à partir de données DGCL de la même année, complétées.\n",
    "simulation_2021 = simulation_from_dgcl_csv(\n",
    "    \"2021\", \n",
    "    fully_adapted_data_2021, \n",
    "    tbs, \n",
    "    data_previous_year=data_2020_as_last_year\n",
    ")"
   ]
  },
  {
   "cell_type": "code",
   "execution_count": null,
   "id": "abcc55b6",
   "metadata": {},
   "outputs": [],
   "source": [
    "# Quel est l'index de la commune nouvelle dans la simulation ?\n",
    "import numpy as np\n",
    "\n",
    "# for population in simulation_2021.populations.values():\n",
    "#    if population.entity.is_person:\n",
    "#        population.ids\n",
    "\n",
    "# population_dgf = simulation_2021.calculate(\"population_dgf\", 2021)\n",
    "# population_dgf\n",
    "# vimartin = np.where(population_dgf == 1303) > (array([ 3592, 11470, 12600, 19408, 21371, 26169, 26974]),)\n",
    "\n",
    "recettes_reelles_fonctionnement = simulation_2021.calculate(\"recettes_reelles_fonctionnement\", 2021)\n",
    "indexes_vimartin_sur_orthe = np.where(recettes_reelles_fonctionnement == 525455.89)\n",
    "\n",
    "indexes_vimartin_sur_orthe[0] # == 19408\n",
    "index_vimartin_sur_orthe = 19408\n",
    "\n",
    "# Un autre indice pour confirmer que c'est bien Vimartin-sur-Orthe ?\n",
    "revenu_par_habitant_moyen = simulation_2021.calculate(\"revenu_par_habitant_moyen\", 2021)\n",
    "revenu_par_habitant_moyen[index_vimartin_sur_orthe] == 14971.765 # False alors que 14971.765 == 14971.764453 !"
   ]
  },
  {
   "cell_type": "code",
   "execution_count": null,
   "id": "7738a692",
   "metadata": {},
   "outputs": [],
   "source": [
    "print(\"Nouvelle vie de Vimartin-sur-Orthe : \")\n",
    "\n",
    "dsr_garantie_commune_nouvelle_fraction_cible = simulation_2021.calculate(\"dsr_garantie_commune_nouvelle_fraction_cible\", 2021)\n",
    "print(\"dsr_garantie_commune_nouvelle_fraction_cible : \", dsr_garantie_commune_nouvelle_fraction_cible[index_vimartin_sur_orthe])\n",
    "\n",
    "dsr_garantie_commune_nouvelle_fraction_perequation = simulation_2021.calculate(\"dsr_garantie_commune_nouvelle_fraction_perequation\", 2021)\n",
    "print(\"dsr_garantie_commune_nouvelle_fraction_perequation : \", dsr_garantie_commune_nouvelle_fraction_perequation[index_vimartin_sur_orthe])\n",
    "\n",
    "dsr_garantie_commune_nouvelle_fraction_bourg_centre = simulation_2021.calculate(\"dsr_garantie_commune_nouvelle_fraction_bourg_centre\", 2021)\n",
    "print(\"dsr_garantie_commune_nouvelle_fraction_bourg_centre : \", dsr_garantie_commune_nouvelle_fraction_bourg_centre[index_vimartin_sur_orthe])"
   ]
  },
  {
   "cell_type": "code",
   "execution_count": null,
   "id": "77f5e325",
   "metadata": {},
   "outputs": [],
   "source": [
    "indexes_mosnac_st_simeux = np.where(recettes_reelles_fonctionnement == 576752.59) # = 5394\n",
    "index_mosnac_st_simeux = 5394\n",
    "\n",
    "print(\"Nouvelle vie de Mosnac-Saint-Simeux : \")\n",
    "\n",
    "dsr_garantie_commune_nouvelle_fraction_cible = simulation_2021.calculate(\"dsr_garantie_commune_nouvelle_fraction_cible\", 2021)\n",
    "print(\"dsr_garantie_commune_nouvelle_fraction_cible : \", dsr_garantie_commune_nouvelle_fraction_cible[index_mosnac_st_simeux])\n",
    "\n",
    "dsr_garantie_commune_nouvelle_fraction_perequation = simulation_2021.calculate(\"dsr_garantie_commune_nouvelle_fraction_perequation\", 2021)\n",
    "print(\"dsr_garantie_commune_nouvelle_fraction_perequation : \", dsr_garantie_commune_nouvelle_fraction_perequation[index_mosnac_st_simeux])\n",
    "\n",
    "dsr_garantie_commune_nouvelle_fraction_bourg_centre = simulation_2021.calculate(\"dsr_garantie_commune_nouvelle_fraction_bourg_centre\", 2021)\n",
    "print(\"dsr_garantie_commune_nouvelle_fraction_bourg_centre : \", dsr_garantie_commune_nouvelle_fraction_bourg_centre[index_mosnac_st_simeux])"
   ]
  },
  {
   "cell_type": "code",
   "execution_count": null,
   "id": "2ccf3b92",
   "metadata": {},
   "outputs": [],
   "source": [
    "# !pip list"
   ]
  }
 ],
 "metadata": {
  "celltoolbar": "Format de la Cellule Texte Brut",
  "kernelspec": {
   "display_name": "Python 3 (ipykernel)",
   "language": "python",
   "name": "python3"
  },
  "language_info": {
   "codemirror_mode": {
    "name": "ipython",
    "version": 3
   },
   "file_extension": ".py",
   "mimetype": "text/x-python",
   "name": "python",
   "nbconvert_exporter": "python",
   "pygments_lexer": "ipython3",
   "version": "3.7.10"
  }
 },
 "nbformat": 4,
 "nbformat_minor": 5
}
