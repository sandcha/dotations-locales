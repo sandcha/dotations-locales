{
 "cells": [
  {
   "cell_type": "markdown",
   "id": "cb103adb",
   "metadata": {},
   "source": [
    "# Draguignan"
   ]
  },
  {
   "cell_type": "code",
   "execution_count": 82,
   "id": "a42c5cbb",
   "metadata": {},
   "outputs": [],
   "source": [
    "# Activate multi-output in notebook\n",
    "# %matplotlib inline (pour des graphes)\n",
    "from IPython.core.interactiveshell import InteractiveShell\n",
    "InteractiveShell.ast_node_interactivity = \"all\""
   ]
  },
  {
   "cell_type": "markdown",
   "id": "8bf36020",
   "metadata": {},
   "source": [
    "## Parcours des données"
   ]
  },
  {
   "cell_type": "markdown",
   "id": "9310ce48",
   "metadata": {},
   "source": [
    "### Chargement des données en mémoire"
   ]
  },
  {
   "cell_type": "code",
   "execution_count": 83,
   "id": "optimum-reliance",
   "metadata": {},
   "outputs": [],
   "source": [
    "from os import getcwd\n",
    "from pandas import DataFrame, read_csv\n",
    "\n",
    "\n",
    "DATA_DIRECTORY = getcwd() + \"/../data/\"\n",
    "\n",
    "# DGCL data\n",
    "DATA_2020_PATH = DATA_DIRECTORY + \"2020-communes-criteres-repartition.csv\"\n",
    "DATA_2021_PATH = DATA_DIRECTORY + \"2021-communes-criteres-repartition.csv\"\n",
    "\n",
    "# Garanties DSU estimées\n",
    "GARANTIES_DSU_PATH = DATA_DIRECTORY + \"garanties_dsu.csv\""
   ]
  },
  {
   "cell_type": "code",
   "execution_count": 84,
   "id": "legitimate-chaos",
   "metadata": {},
   "outputs": [
    {
     "name": "stdout",
     "output_type": "stream",
     "text": [
      "Loading /Users/sch/dev/gitruc/dotations-locales/data/2020-communes-criteres-repartition.csv\n"
     ]
    },
    {
     "name": "stderr",
     "output_type": "stream",
     "text": [
      "/Users/sch/.local/share/virtualenvs/dl/lib/python3.7/site-packages/ipykernel_launcher.py:3: DtypeWarning: Columns (2) have mixed types.Specify dtype option on import or set low_memory=False.\n",
      "  This is separate from the ipykernel package so we can avoid doing imports until\n"
     ]
    },
    {
     "name": "stdout",
     "output_type": "stream",
     "text": [
      "Loading /Users/sch/dev/gitruc/dotations-locales/data/2021-communes-criteres-repartition.csv\n"
     ]
    },
    {
     "name": "stderr",
     "output_type": "stream",
     "text": [
      "/Users/sch/.local/share/virtualenvs/dl/lib/python3.7/site-packages/ipykernel_launcher.py:6: DtypeWarning: Columns (2) have mixed types.Specify dtype option on import or set low_memory=False.\n",
      "  \n"
     ]
    }
   ],
   "source": [
    "from scripts.load_dgcl_data import load_dgcl_file, adapt_dgcl_data\n",
    "\n",
    "dgcl_data_2020 = load_dgcl_file(DATA_2020_PATH)\n",
    "adapted_data_2020 = adapt_dgcl_data(dgcl_data_2020)\n",
    "\n",
    "dgcl_data_2021 = load_dgcl_file(DATA_2021_PATH)\n",
    "adapted_data_2021 = adapt_dgcl_data(dgcl_data_2021)\n"
   ]
  },
  {
   "cell_type": "code",
   "execution_count": 85,
   "id": "e6b35f43",
   "metadata": {},
   "outputs": [],
   "source": [
    "# adapted_data_2021"
   ]
  },
  {
   "cell_type": "markdown",
   "id": "3c32b2fb",
   "metadata": {},
   "source": [
    "## Draguignan"
   ]
  },
  {
   "cell_type": "code",
   "execution_count": 86,
   "id": "f1627438",
   "metadata": {},
   "outputs": [
    {
     "data": {
      "text/plain": [
       "['Informations générales - Code INSEE de la commune',\n",
       " 'Informations générales - Nom de la commune',\n",
       " 'Informations générales - Code département de la commune',\n",
       " \"Informations générales - Code SIREN de l'EPCI\",\n",
       " \"Informations générales - Nom de l'EPCI\",\n",
       " 'Informations générales - Exercice',\n",
       " 'Informations générales - Régime fiscal EPCI',\n",
       " \"Informations générales - Population DGF Année N'\",\n",
       " 'Informations générales - Population INSEE Année N ',\n",
       " \"Informations générales - Résidences secondaires de l'année N\",\n",
       " \"Informations générales - Places de caravanes de l'année N avant majoration\",\n",
       " \"Informations générales - Coefficient de majoration des places de caravanes de l'année N\",\n",
       " \"Informations générales - Places de caravanes de l'année N après majoration\",\n",
       " 'Informations générales - Strate démographique Année N',\n",
       " 'Informations générales - Superficie 2019',\n",
       " 'Potentiel fiscal et financier des communes - Potentiel fiscal 3 taxes',\n",
       " 'Potentiel fiscal et financier des communes - Potentiel fiscal 4 taxes',\n",
       " 'Potentiel fiscal et financier des communes - Potentiel fiscal 4 taxes par habitant',\n",
       " 'Potentiel fiscal et financier des communes - Potentiel financier',\n",
       " 'Potentiel fiscal et financier des communes - Potentiel financier par habitant',\n",
       " 'Potentiel fiscal et financier des communes - Potentiel financier superficiaire',\n",
       " 'Potentiel fiscal et financier des communes - Potentiel fiscal moyen par habitant de la strate',\n",
       " 'Potentiel fiscal et financier des communes - Potentiel financier moyen de la strate',\n",
       " \"Potentiel fiscal et financier des communes - Régime fiscal de l'EPCI N-1\",\n",
       " \"Potentiel fiscal et financier des communes - Population DGF N de l'EPCI sur son périmètre N-1\",\n",
       " 'Potentiel fiscal et financier des communes - Bases brutes de FB',\n",
       " 'Potentiel fiscal et financier des communes - Bases brutes de FNB',\n",
       " 'Potentiel fiscal et financier des communes - Bases brutes de TH',\n",
       " 'Potentiel fiscal et financier des communes - TAFNB perçue par la commune',\n",
       " \"Potentiel fiscal et financier des communes - TAFNB perçue par l'EPCI sur la commune\",\n",
       " \"Potentiel fiscal et financier des communes - TAFNB totale perçue par l'EPCI (FPU)\",\n",
       " \"Potentiel fiscal et financier des communes - Bases brutes de TH totales de l'EPCI (FPU)\",\n",
       " 'Potentiel fiscal et financier des communes - Bases brutes de CFE de la commune',\n",
       " 'Potentiel fiscal et financier des communes - Produit de CVAE de la commune',\n",
       " \"Potentiel fiscal et financier des communes - Produit d'IFER de la commune\",\n",
       " 'Potentiel fiscal et financier des communes - Produit de TASCOM de la commune',\n",
       " 'Potentiel fiscal et financier des communes - Redevance des mines (CA N-2)',\n",
       " 'Potentiel fiscal et financier des communes - Prélèvements communaux sur le produits des jeux',\n",
       " 'Potentiel fiscal et financier des communes - Taxe sur les jeux EPCI',\n",
       " 'Potentiel fiscal et financier des communes - Contribution sur les eaux minérales',\n",
       " 'Potentiel fiscal et financier des communes - Montant de DCRTP de la commune',\n",
       " 'Potentiel fiscal et financier des communes - Reversement au titre du FNGIR de la commune',\n",
       " 'Potentiel fiscal et financier des communes - Prélèvement au titre du FNGIR de la commune',\n",
       " 'Potentiel fiscal et financier des communes - Part CPS 2014 commune indexée Tx forfaitaire',\n",
       " 'Potentiel fiscal et financier des communes - Part DCTP 2014 commune indexée Tx forfaitaire',\n",
       " \"Potentiel fiscal et financier des communes - Part CPS N-1 nette de l'EPCI - Prélèvement sur fiscalité TASCOM N-1\",\n",
       " 'Potentiel fiscal et financier des communes - Attribution de compensation de la commune',\n",
       " 'Potentiel fiscal et financier des communes - ACNE',\n",
       " \"Potentiel fiscal et financier des communes - Somme des attributions de compensation de l'EPCI\",\n",
       " \"Potentiel fiscal et financier des communes - Somme des ACNE de l'EPCI\",\n",
       " \"Potentiel fiscal et financier des communes - CVAE perçue par l'EPCI sur la commune\",\n",
       " \"Potentiel fiscal et financier des communes - IFER perçues par l'EPCI sur la commune\",\n",
       " \"Potentiel fiscal et financier des communes - TASCOM perçue par l'EPCI sur la commune\",\n",
       " \"Potentiel fiscal et financier des communes - Bases brutes de CFE de l'EPCI sur ZAE/ZE\",\n",
       " \"Potentiel fiscal et financier des communes - CVAE perçue par l'EPCI sur ZAE/ZE\",\n",
       " 'Potentiel fiscal et financier des communes - IFER perçues par EPCI sur ZAE/ZE',\n",
       " \"Potentiel fiscal et financier des communes - TASCOM perçue par l'EPCI sur ZAE/ZE\",\n",
       " \"Potentiel fiscal et financier des communes - Bases brutes de CFE de l'EPCI (hors ZAE/ZE)\",\n",
       " \"Potentiel fiscal et financier des communes - CVAE perçue par l'EPCI (hors ZAE/ZE)\",\n",
       " \"Potentiel fiscal et financier des communes - IFER perçues par l'EPCI (hors ZAE/ZE)\",\n",
       " \"Potentiel fiscal et financier des communes - TASCOM perçue par l'EPCI (hors ZAE/ZE)\",\n",
       " \"Potentiel fiscal et financier des communes - Montant de DCRTP de l'EPCI\",\n",
       " \"Potentiel fiscal et financier des communes - Reversement au titre du FNGIR de l'EPCI\",\n",
       " \"Potentiel fiscal et financier des communes - Prélèvement au titre du FNGIR de l'EPCI\",\n",
       " 'Potentiel fiscal et financier des communes - Produits EPCI à ventiler',\n",
       " 'Potentiel fiscal et financier des communes - Produits EPCI ventilés',\n",
       " 'Potentiel fiscal et financier des communes - Produits communaux',\n",
       " 'Potentiel fiscal et financier des communes - Produits EPCI territorialisés',\n",
       " 'Potentiel fiscal et financier des communes - Dotation forfaitaire N-1 notifiée sur périmètre N',\n",
       " 'Potentiel fiscal et financier des communes - Prélèvements sur fiscalité N-1 au titre du III de l article L 2334-7 CGCT sur périmètre N',\n",
       " 'Potentiel fiscal et financier des communes - Prélèvements sur fiscalité CRFP N-1 sur périmètre N',\n",
       " 'Potentiel fiscal et financier des communes - Dotation de consolidation pour les CN 2018, 2019 et 2020 sur périmètre N',\n",
       " 'Potentiel fiscal et financier des communes - Participation obligatoire aux dépenses d aide sociale et de santé du département de Paris',\n",
       " 'Effort fiscal - Effort fiscal',\n",
       " 'Effort fiscal - Effort fiscal moyen de la strate',\n",
       " 'Effort fiscal - Potentiel fiscal 3 taxes (dénominateur effort fiscal)',\n",
       " 'Effort fiscal - Produit net FB',\n",
       " 'Effort fiscal - Produit net FNB (hors TAFNB)',\n",
       " 'Effort fiscal - Produit net TH',\n",
       " 'Effort fiscal - Produit 3 taxes EPCI',\n",
       " 'Effort fiscal - Produit effort fiscal avant écrêtement',\n",
       " 'Effort fiscal - Bases nettes FB',\n",
       " 'Effort fiscal - Bases nettes FNB',\n",
       " 'Effort fiscal - Bases nettes TH',\n",
       " 'Effort fiscal - Taux moyen pondéré N-1',\n",
       " 'Effort fiscal - Taux moyen pondéré N-1 strate',\n",
       " 'Effort fiscal - Taux moyen pondéré N',\n",
       " 'Effort fiscal - Taux moyen pondéré N strate',\n",
       " 'Effort fiscal - Produit effort fiscal après écrêtement',\n",
       " 'Effort fiscal - Exonérations 1396',\n",
       " 'Effort fiscal - TEOM commune',\n",
       " 'Effort fiscal - TEOM EPCI',\n",
       " 'Effort fiscal - TEOM syndicat',\n",
       " 'Effort fiscal - REOM commune',\n",
       " 'Effort fiscal - REOM EPCI',\n",
       " 'Effort fiscal - REOM syndicat',\n",
       " 'Effort fiscal - Produit total effort fiscal (numérateur)',\n",
       " 'Dotation forfaitaire - Dotation forfaitaire notifiée N',\n",
       " 'Dotation forfaitaire - CPS N des communes',\n",
       " 'Dotation forfaitaire - Dotation forfaitaire N-1 après retraitement CPS N',\n",
       " 'Dotation forfaitaire - Commune éligible à la surmajoration des résidences secondaire',\n",
       " 'Dotation forfaitaire - Population DGF major�e',\n",
       " 'Dotation forfaitaire - Part dynamique de la population des communes',\n",
       " 'Dotation forfaitaire - Montant de la garantie de non-baisse pour les communes nouvelles',\n",
       " 'Dotation forfaitaire - Recettes réelles de fonctionnement des communes N-2 pour Année N',\n",
       " \"Dotation forfaitaire - Montant de l'écrêtement\",\n",
       " \"Dotation forfaitaire - Dotation complémentaire touristique pour l'année N\",\n",
       " \"Dotation forfaitaire - Dotation supplémentaire touristique pour l'année N\",\n",
       " \"Dotation forfaitaire - Dotation ville centre pour l'année N\",\n",
       " 'Dotation forfaitaire - Prélèvement sur fiscalité au titre de la contribution au redressement des finances publiques depuis 2018',\n",
       " \"Dotation d'amorçage - Montant de la dotation d'amorçage\",\n",
       " 'Dotation de solidarité urbaine - Potentiel financier moyen par habitant des communes métropolitaines de plus de 10000 habitants',\n",
       " 'Dotation de solidarité urbaine - Potentiel financier moyen par habitant des communes métropolitaines de 5000 à 9999 habitants',\n",
       " 'Dotation de solidarité urbaine - Nombre de logements TH de la commune',\n",
       " 'Dotation de solidarité urbaine - Nombre de logements sociaux de la commune',\n",
       " 'Dotation de solidarité urbaine - Part des logements sociaux dans le total des logements des communes métropolitaines de plus de 10000 habitants',\n",
       " 'Dotation de solidarité urbaine - Part des logements sociaux dans le total des logements des communes métropolitaines de 5000 à 9999 habitants',\n",
       " 'Dotation de solidarité urbaine - Nombre de bénéficiaires des aides au logement de la commune',\n",
       " \"Dotation de solidarité urbaine - Part des bénéficiaires d'aides au logement par rapport au nombre de logements des communes mét de plus de 10000 habitants\",\n",
       " \"Dotation de solidarité urbaine - Part des bénéficiaires d'aides au logement par rapport au nombre de logements des communes mét de 5000 à 9999 habitants\",\n",
       " 'Dotation de solidarité urbaine - Revenu imposable des habitants de la commune',\n",
       " 'Dotation de solidarité urbaine - Revenu imposable par habitant',\n",
       " 'Dotation de solidarité urbaine - Revenu imposable moyen par habitant des communes mét de plus de 10 000 habitants',\n",
       " 'Dotation de solidarité urbaine - Revenu imposable moyen par habitant des communes mét de 5000 à 9999 habitants',\n",
       " \"Dotation de solidarité urbaine - Valeur de l'indice synthétique de classement de la commune à la DSU\",\n",
       " 'Dotation de solidarité urbaine - Rang de classement à la DSU des communes mét de plus de 10000 habitants',\n",
       " 'Dotation de solidarité urbaine - Rang de classement à la DSU des communes mét de 5000 à 9999 habitants',\n",
       " 'Dotation de solidarité urbaine - Montant de la garantie effectivement appliquée à la commune',\n",
       " 'Dotation de solidarité urbaine - Population QPV',\n",
       " 'Dotation de solidarité urbaine - Population ZFU',\n",
       " 'Dotation de solidarité urbaine - Montant attribution spontanée DSU',\n",
       " 'Dotation de solidarité urbaine - Montant progression de la DSU',\n",
       " 'Dotation de solidarité urbaine - Montant total réparti',\n",
       " 'Dotation nationale de péréquation - Montant part principale',\n",
       " 'Dotation nationale de péréquation - Montant part majoration',\n",
       " 'Dotation nationale de péréquation - Garantie de sortie',\n",
       " 'Dotation nationale de péréquation - DNP totale',\n",
       " \"Dotation nationale de péréquation - Coefficient de majoration de l'attribution à la part principale de la DNP (taux plein = 1 - taux réduit de moitié = 0,5 - non éligilble = 0)\",\n",
       " 'Dotation nationale de péréquation - Commune éligible à la part principale (PP) de la DNP',\n",
       " 'Dotation nationale de péréquation - Commune éligible à la part majoration (PM) de la DNP',\n",
       " 'Dotation nationale de péréquation - Taux CFE',\n",
       " 'Dotation nationale de péréquation - Produits post-TP',\n",
       " 'Dotation nationale de péréquation - Produits post-TP par habitant',\n",
       " 'Dotation nationale de péréquation - Produits post-TP par habitant moyen de la strate',\n",
       " 'Dotation de solidarité rurale Bourg-centre - Montant de la commune éligible',\n",
       " 'Dotation de solidarité rurale Bourg-centre - Montant de référence CN',\n",
       " 'Dotation de solidarité rurale Bourg-centre - Montant de la garantie de sortie',\n",
       " 'Dotation de solidarité rurale Bourg-centre - Montant global réparti',\n",
       " 'Dotation de solidarité rurale Bourg-centre - Population DGF plafonnée',\n",
       " 'Dotation de solidarité rurale Bourg-centre - Pourcentage de la population communale dans le canton',\n",
       " \"Dotation de solidarité rurale Bourg-centre - Population DGF des communes de l'agglomération\",\n",
       " \"Dotation de solidarité rurale Bourg-centre - Population départementale de référence de l'agglomération\",\n",
       " 'Dotation de solidarité rurale Bourg-centre - Chef-lieu de département agglo',\n",
       " 'Dotation de solidarité rurale Bourg-centre - Code commune chef-lieu de canton au 1er janvier 2014',\n",
       " 'Dotation de solidarité rurale Bourg-centre - Nom commune chef-lieu de canton au 1er janvier 2014',\n",
       " 'Dotation de solidarité rurale Bourg-centre - Bureaux centralisateurs',\n",
       " \"Dotation de solidarité rurale Bourg-centre - Chef-lieu d'arrondissement au 31 décembre 2014\",\n",
       " 'Dotation de solidarité rurale Bourg-centre - Potentiel financier moyen par habitant des communes mét de moins de 10 000 habitants',\n",
       " 'Dotation de solidarité rurale - Bourg-centre - Commune située en ZRR',\n",
       " 'Dotation de solidarité rurale - Péréquation - Part Pfi (avant garantie CN)',\n",
       " 'Dotation de solidarité rurale - Péréquation - Part VOIRIE (avant garantie CN)',\n",
       " 'Dotation de solidarité rurale - Péréquation - Part ENFANTS (avant garantie CN)',\n",
       " 'Dotation de solidarité rurale - Péréquation - Part Pfi/hectare (avant garantie CN)',\n",
       " 'Dotation de solidarité rurale - Péréquation - Montant de référence CN',\n",
       " 'Dotation de solidarité rurale - Péréquation - Commune éligible à la DSR Péréquation',\n",
       " 'Dotation de solidarité rurale - Péréquation - Montant global réparti (après garantie CN)',\n",
       " 'Dotation de solidarité rurale - Péréquation - Commune située en zone de montagne',\n",
       " 'Dotation de solidarité rurale - Péréquation - Commune insulaire',\n",
       " 'Dotation de solidarité rurale - Péréquation - Potentiel financier par hectare des communes mét de moins de 10 000 habitants',\n",
       " 'Dotation de solidarité rurale - Péréquation - Population 3 à 16 ans',\n",
       " 'Dotation de solidarité rurale - Péréquation - Longueur de voirie en mètres',\n",
       " 'Dotation de solidarité rurale - Cible - Indice synthétique',\n",
       " 'Dotation de solidarité rurale - Cible - Rang DSR Cible',\n",
       " 'Dotation de solidarité rurale - Cible - Commune éligible à la DSR Cible',\n",
       " 'Dotation de solidarité rurale - Cible - Part Pfi (avant garantie CN)',\n",
       " 'Dotation de solidarité rurale - Cible - Part VOIRIE (avant garantie CN)',\n",
       " 'Dotation de solidarité rurale - Cible - Part ENFANTS (avant garantie CN)',\n",
       " 'Dotation de solidarité rurale - Cible - Part Pfi/hectare (Pfis) (avant garantie CN)',\n",
       " 'Dotation de solidarité rurale - Cible - Montant de référence CN',\n",
       " 'Dotation de solidarité rurale - Cible - Montant de la garantie de sortie cible des communes devenues inéligibles en année N',\n",
       " 'Dotation de solidarité rurale - Cible - Montant global réparti',\n",
       " 'Dotation d’aménagement des communes et circonscriptions territoriales d’outre-mer - QUOTE-PART DSU/DSR',\n",
       " 'Dotation d’aménagement des communes et circonscriptions territoriales d’outre-mer - QUOTE-PART DNP',\n",
       " 'Dotation d’aménagement des communes et circonscriptions territoriales d’outre-mer - Montant de DACOM socle',\n",
       " 'Dotation d’aménagement des communes et circonscriptions territoriales d’outre-mer - Montant de dotation de péréquation (DPOM)',\n",
       " 'Dotation d’aménagement des communes et circonscriptions territoriales d’outre-mer - Montant total de DACOM réparti',\n",
       " 'Dotation d’aménagement des communes et circonscriptions territoriales d’outre-mer - Centimes additionnels',\n",
       " 'Dotation d’aménagement des communes et circonscriptions territoriales d’outre-mer - Eloignement par rapport au chef-lieu du territoire',\n",
       " \"Dotation d'aménagement des communes et circonscriptions territoriales d'outre-mer - Impôts ménages\",\n",
       " \"Dotation d'aménagement des communes et circonscriptions territoriales d'outre-mer - Commune aurifère\",\n",
       " \"Dotation d'aménagement des communes et circonscriptions territoriales d'outre-mer - Indice synthétique DPOM avec majoration\",\n",
       " \"Dotation d'aménagement des communes et circonscriptions territoriales d'outre-mer - Coefficident de majoration de l'IS\",\n",
       " \"Dotation d'aménagement des communes et circonscriptions territoriales d'outre-mer - Potentiel financier majoré de l'octroi de mer\",\n",
       " \"Dotation d'aménagement des communes et circonscriptions territoriales d'outre-mer - Potentiel financier majoré de l'octroi de mer par habitant\",\n",
       " \"Dotation d'aménagement des communes et circonscriptions territoriales d'outre-mer - Nombre de foyers bénéficiaires du RSA\"]"
      ]
     },
     "execution_count": 86,
     "metadata": {},
     "output_type": "execute_result"
    },
    {
     "name": "stdout",
     "output_type": "stream",
     "text": [
      "Commune analysée : DRAGUIGNAN\n",
      "Données 2021\n"
     ]
    }
   ],
   "source": [
    "# Récupération des données d'une commune.\n",
    "\n",
    "CODE_INSEE_DRAGUIGNAN = \"83050\"\n",
    "\n",
    "# Données DGCL brutes (195 colonnes)\n",
    "\n",
    "def get_dgcl_commune_data(code_insee_commune):\n",
    "    return dgcl_data_2021.loc[dgcl_data_2021[\"Informations générales - Code INSEE de la commune\"] == code_insee_commune]\n",
    "\n",
    "draguignan_dgcl = get_dgcl_commune_data(CODE_INSEE_DRAGUIGNAN)\n",
    "draguignan_dgcl.keys().tolist()  # toutes les colonnes\n",
    "\n",
    "# Données adaptées avant intégration des communes nouvelles et des garanties DSU (34 colonnes)\n",
    "\n",
    "def get_commune_data(data, code_insee_commune):\n",
    "    return data.loc[data[\"Informations générales - Code INSEE de la commune\"] == code_insee_commune]\n",
    "\n",
    "\n",
    "\n",
    "# On récupère les données de la commune des jeux de données adaptés \n",
    "# car ils contiennent les mêmes noms de colonnes (pas toujours stables dans les données DGCL)\n",
    "df_commune_2020 = get_commune_data(adapted_data_2020, CODE_INSEE_DRAGUIGNAN)\n",
    "df_commune_2021 = get_commune_data(adapted_data_2021, CODE_INSEE_DRAGUIGNAN)\n",
    "\n",
    "NOM_COMMUNE = df_commune_2021[\"Informations générales - Nom de la commune\"].values[0]\n",
    "print(\"Commune analysée : \" + NOM_COMMUNE)\n",
    "print(\"Données 2021\")\n",
    "# df_commune_2021"
   ]
  },
  {
   "cell_type": "markdown",
   "id": "f4ca044d",
   "metadata": {
    "raw_mimetype": "text/markdown"
   },
   "source": [
    "## Intégration de données complémentaires\n",
    "Complétion des données par les évolutions de situation des communes"
   ]
  },
  {
   "cell_type": "code",
   "execution_count": 87,
   "id": "77e982d1",
   "metadata": {},
   "outputs": [],
   "source": [
    "# Initialisation du nouveau jeu de données\n",
    "\n",
    "fully_adapted_data_2021 = adapted_data_2021"
   ]
  },
  {
   "cell_type": "markdown",
   "id": "1ddb7c2f",
   "metadata": {},
   "source": [
    "### Ajout des garanties DSU"
   ]
  },
  {
   "cell_type": "code",
   "execution_count": 88,
   "id": "b6d6c287",
   "metadata": {},
   "outputs": [],
   "source": [
    "from pandas import read_csv\n",
    "from scripts.load_dgcl_data import insert_dsu_garanties\n",
    "\n",
    "# Chargement des garanties DSU toutes périodes\n",
    "# TODO remplacer les garanties estimées pour 2021 par les garanties publiées par la DGCL\n",
    "\n",
    "# TODO 2022 où toutes les valeurs sont à zéro + de nouvelles communes peuvent manquer\n",
    "garanties_dsu = read_csv(GARANTIES_DSU_PATH, dtype={\"Informations générales - Nom de la commune\": str})\n",
    "\n",
    "# Insertion des garanties 2021 au titre de la DSU (non calculées explicitement dans OFDL)\n",
    "fully_adapted_data_2021 = insert_dsu_garanties(fully_adapted_data_2021, \"2021\", GARANTIES_DSU_PATH)"
   ]
  },
  {
   "cell_type": "markdown",
   "id": "aa2ea2b5",
   "metadata": {},
   "source": [
    "### Ajout des garanties communes nouvelles"
   ]
  },
  {
   "cell_type": "code",
   "execution_count": 89,
   "id": "6582bf5b",
   "metadata": {},
   "outputs": [],
   "source": [
    "from scripts.load_dgcl_data import insert_dsr_garanties_communes_nouvelles\n",
    "\n",
    "\n",
    "# Insertion des garanties communes nouvelles au titre de la DSR (non calculées explicitement dans OFDL)\n",
    "fully_adapted_data_2021 = insert_dsr_garanties_communes_nouvelles(fully_adapted_data_2021, \"2021\")"
   ]
  },
  {
   "cell_type": "code",
   "execution_count": 90,
   "id": "3e6b3372",
   "metadata": {},
   "outputs": [
    {
     "data": {
      "text/plain": [
       "Index(['Informations générales - Code INSEE de la commune',\n",
       "       'Informations générales - Nom de la commune', 'bureau_centralisateur',\n",
       "       'chef_lieu_arrondissement', 'chef_lieu_de_canton',\n",
       "       'chef_lieu_departement_dans_agglomeration', 'part_population_canton',\n",
       "       'population_dgf', 'population_dgf_agglomeration',\n",
       "       'population_dgf_departement_agglomeration', 'population_insee',\n",
       "       'potentiel_financier', 'potentiel_financier_par_habitant',\n",
       "       'revenu_total', 'strate_demographique', 'zrr', 'effort_fiscal',\n",
       "       'longueur_voirie', 'zone_de_montagne', 'insulaire', 'superficie',\n",
       "       'population_enfants', 'nombre_logements', 'nombre_logements_sociaux',\n",
       "       'nombre_beneficiaires_aides_au_logement', 'population_qpv',\n",
       "       'population_zfu', 'population_dgf_majoree',\n",
       "       'recettes_reelles_fonctionnement', 'potentiel_fiscal',\n",
       "       'population_dgf_maximum_commune_agglomeration', 'outre_mer',\n",
       "       'population_dgf_chef_lieu_de_canton', 'revenu_par_habitant_moyen',\n",
       "       'dsu_montant_garantie_pluriannuelle',\n",
       "       'dsr_garantie_commune_nouvelle_fraction_bourg_centre',\n",
       "       'dsr_garantie_commune_nouvelle_fraction_perequation',\n",
       "       'dsr_garantie_commune_nouvelle_fraction_cible'],\n",
       "      dtype='object')"
      ]
     },
     "execution_count": 90,
     "metadata": {},
     "output_type": "execute_result"
    }
   ],
   "source": [
    "fully_adapted_data_2021.keys()  # 38 colonnes en 2021 (contre 34 initialement)"
   ]
  },
  {
   "cell_type": "markdown",
   "id": "d39eb882",
   "metadata": {},
   "source": [
    "### Calcul des dotations 2021\n"
   ]
  },
  {
   "cell_type": "code",
   "execution_count": 91,
   "id": "bfabe40e",
   "metadata": {},
   "outputs": [],
   "source": [
    "from openfisca_france_dotations_locales import CountryTaxBenefitSystem as DotationsLocales\n",
    "\n",
    "from scripts.simulation import simulation_from_dgcl_csv\n",
    "from scripts.load_dgcl_data import get_last_year_dotations\n",
    "\n",
    "\n",
    "tbs = DotationsLocales()\n",
    "\n",
    "results_2020_as_last_year = get_last_year_dotations(dgcl_data_2020)\n",
    "data_2020_as_last_year = results_2020_as_last_year[[\n",
    "    \"Informations générales - Code INSEE de la commune\", \n",
    "    \"dsu_montant_eligible\", \n",
    "    \"dsr_montant_eligible_fraction_bourg_centre\", \n",
    "    \"dsr_montant_eligible_fraction_perequation\", \n",
    "    \"dsr_montant_hors_garanties_fraction_cible\", \n",
    "    \"population_dgf_majoree\", \n",
    "    \"dotation_forfaitaire\"\n",
    "]]\n",
    "\n",
    "\n",
    "\n",
    "# Simulation à partir de données DGCL de la même année, complétées.\n",
    "simulation_2021 = simulation_from_dgcl_csv(\n",
    "    \"2021\", \n",
    "    fully_adapted_data_2021, \n",
    "    tbs, \n",
    "    data_previous_year=data_2020_as_last_year\n",
    ")"
   ]
  },
  {
   "cell_type": "code",
   "execution_count": 92,
   "id": "abcc55b6",
   "metadata": {},
   "outputs": [
    {
     "data": {
      "text/plain": [
       "(array([32329]),)"
      ]
     },
     "execution_count": 92,
     "metadata": {},
     "output_type": "execute_result"
    },
    {
     "data": {
      "text/plain": [
       "True"
      ]
     },
     "execution_count": 92,
     "metadata": {},
     "output_type": "execute_result"
    }
   ],
   "source": [
    "# Quel est l'index de la commune nouvelle dans la simulation ?\n",
    "import numpy as np\n",
    "\n",
    "# for population in simulation_2021.populations.values():\n",
    "#    if population.entity.is_person:\n",
    "#        population.ids\n",
    "\n",
    "# population_dgf = simulation_2021.calculate(\"population_dgf\", 2021)\n",
    "# population_dgf\n",
    "# vimartin = np.where(population_dgf == 1303) > (array([ 3592, 11470, 12600, 19408, 21371, 26169, 26974]),)\n",
    "\n",
    "recettes_reelles_fonctionnement = simulation_2021.calculate(\"recettes_reelles_fonctionnement\", 2021)\n",
    "indexes_draguignan = np.where(recettes_reelles_fonctionnement == 42871089.53)\n",
    "\n",
    "indexes_draguignan # (array([32329]),)\n",
    "index_draguignan = 32329\n",
    "\n",
    "# Un autre indice pour confirmer que c'est bien Draguignan ?\n",
    "revenu_par_habitant_moyen = simulation_2021.calculate(\"revenu_par_habitant_moyen\", 2021)\n",
    "revenu_par_habitant_moyen[index_draguignan] - 14792.537 < 0.001"
   ]
  },
  {
   "cell_type": "code",
   "execution_count": 93,
   "id": "7738a692",
   "metadata": {},
   "outputs": [
    {
     "name": "stdout",
     "output_type": "stream",
     "text": [
      "Dotations Draguignan : \n",
      "--- DF\n",
      "dotation_forfaitaire :  4287358.0\n",
      "df dgcl 2021 :  [4291411]\n",
      "--- DSU\n",
      "dsu_montant :  1185469.0\n",
      "dsu dgcl 2021 :  [1484416]\n",
      "--- DSR\n",
      "dotation_solidarite_rurale :  0.0\n",
      "dsr dgcl 2021 - Fraction Cible :  [0]\n",
      "dsr dgcl 2021 - Fraction Péréquation :  [0]\n",
      "dsr dgcl 2021 - Fraction Bourg-Centre :  [0]\n"
     ]
    },
    {
     "name": "stderr",
     "output_type": "stream",
     "text": [
      "/Users/sch/dev/gitruc/openfisca-france-dotations-locales/openfisca_france_dotations_locales/variables/dotation_forfaitaire.py:188: RuntimeWarning: divide by zero encountered in log10\n",
      "  dotation_supp_par_habitant = facteur_minimum + (facteur_maximum - facteur_minimum) * max_(0, min_(1, facteur_du_coefficient_logarithmique * log10(safe_divide(population_majoree_dgf, plancher_dgcl_population_dgf_majoree, 1))))\n",
      "/Users/sch/dev/gitruc/openfisca-france-dotations-locales/openfisca_france_dotations_locales/variables/dotation_forfaitaire.py:40: RuntimeWarning: divide by zero encountered in log10\n",
      "  coefficient_logarithmique = max_(1, min_(2, 1 + facteur_du_coefficient_logarithmique * log10(population_dgf / plancher_dgcl_population_dgf)))\n",
      "/Users/sch/dev/gitruc/openfisca-france-dotations-locales/openfisca_france_dotations_locales/variables/dotation_forfaitaire.py:70: RuntimeWarning: divide by zero encountered in true_divide\n",
      "  potentiel_fiscal_moyen_commune = where(population_logarithmee > 0, potentiel_fiscal / population_logarithmee, 0)\n",
      "/Users/sch/dev/gitruc/openfisca-france-dotations-locales/openfisca_france_dotations_locales/variables/dotation_forfaitaire.py:70: RuntimeWarning: invalid value encountered in true_divide\n",
      "  potentiel_fiscal_moyen_commune = where(population_logarithmee > 0, potentiel_fiscal / population_logarithmee, 0)\n",
      "/Users/sch/dev/gitruc/openfisca-france-dotations-locales/openfisca_france_dotations_locales/variables/dotation_forfaitaire.py:155: RuntimeWarning: divide by zero encountered in true_divide\n",
      "  potentiel_fiscal_moyen_commune = where(population_logarithmee > 0, potentiel_fiscal / population_logarithmee, 0)\n",
      "/Users/sch/dev/gitruc/openfisca-france-dotations-locales/openfisca_france_dotations_locales/variables/dotation_forfaitaire.py:155: RuntimeWarning: invalid value encountered in true_divide\n",
      "  potentiel_fiscal_moyen_commune = where(population_logarithmee > 0, potentiel_fiscal / population_logarithmee, 0)\n",
      "/Users/sch/dev/gitruc/openfisca-france-dotations-locales/openfisca_france_dotations_locales/variables/dotation_solidarite_urbaine.py:400: RuntimeWarning: invalid value encountered in true_divide\n",
      "  facteur_qpv = (1 + np.where(population_insee > 0, poids_quartiers_prioritaires_ville * population_qpv / population_insee, 0))\n",
      "/Users/sch/dev/gitruc/openfisca-france-dotations-locales/openfisca_france_dotations_locales/variables/dotation_solidarite_urbaine.py:401: RuntimeWarning: invalid value encountered in true_divide\n",
      "  facteur_zfu = (1 + np.where(population_insee > 0, poids_zone_franche_urbaine * population_zfu / population_insee, 0))\n"
     ]
    }
   ],
   "source": [
    "print(\"Dotations Draguignan : \")\n",
    "\n",
    "print(\"--- DF\")\n",
    "dotation_forfaitaire = simulation_2021.calculate(\"dotation_forfaitaire\", 2021)\n",
    "print(\"dotation_forfaitaire : \", dotation_forfaitaire[index_draguignan])\n",
    "print(\"df dgcl 2021 : \", draguignan_dgcl[\"Dotation forfaitaire - Dotation forfaitaire notifiée N\"].values)\n",
    "\n",
    "print(\"--- DSU\")\n",
    "dsu_montant = simulation_2021.calculate(\"dsu_montant\", 2021)\n",
    "print(\"dsu_montant : \", dsu_montant[index_draguignan])\n",
    "print(\"dsu dgcl 2021 : \", draguignan_dgcl[\"Dotation de solidarité urbaine - Montant total réparti\"].values)\n",
    "\n",
    "print(\"--- DSR\")\n",
    "# dsr_garantie_commune_nouvelle_fraction_cible = simulation_2021.calculate(\"dsr_garantie_commune_nouvelle_fraction_cible\", 2021)\n",
    "# print(\"dsr_garantie_commune_nouvelle_fraction_cible : \", dsr_garantie_commune_nouvelle_fraction_cible[index_draguignan])\n",
    "# dsr_garantie_commune_nouvelle_fraction_perequation = simulation_2021.calculate(\"dsr_garantie_commune_nouvelle_fraction_perequation\", 2021)\n",
    "# print(\"dsr_garantie_commune_nouvelle_fraction_perequation : \", dsr_garantie_commune_nouvelle_fraction_perequation[index_draguignan])\n",
    "# dsr_garantie_commune_nouvelle_fraction_bourg_centre = simulation_2021.calculate(\"dsr_garantie_commune_nouvelle_fraction_bourg_centre\", 2021)\n",
    "# print(\"dsr_garantie_commune_nouvelle_fraction_bourg_centre : \", dsr_garantie_commune_nouvelle_fraction_bourg_centre[index_draguignan])\n",
    "\n",
    "dotation_solidarite_rurale = simulation_2021.calculate(\"dotation_solidarite_rurale\", 2021)\n",
    "print(\"dotation_solidarite_rurale : \", dotation_solidarite_rurale[index_draguignan])\n",
    "\n",
    "print(\"dsr dgcl 2021 - Fraction Cible : \", draguignan_dgcl[\"Dotation de solidarité rurale - Cible - Montant global réparti\"].values)\n",
    "print(\"dsr dgcl 2021 - Fraction Péréquation : \", draguignan_dgcl[\"Dotation de solidarité rurale - Péréquation - Montant global réparti (après garantie CN)\"].values)\n",
    "print(\"dsr dgcl 2021 - Fraction Bourg-Centre : \", draguignan_dgcl[\"Dotation de solidarité rurale Bourg-centre - Montant global réparti\"].values)"
   ]
  },
  {
   "cell_type": "markdown",
   "id": "4c0f4245",
   "metadata": {},
   "source": [
    "### Réforme 2022"
   ]
  },
  {
   "cell_type": "code",
   "execution_count": 94,
   "id": "404d08cd",
   "metadata": {},
   "outputs": [],
   "source": [
    "from scripts.load_dgcl_data import insert_dsu_garanties\n",
    "from scripts.load_dgcl_data import insert_dsr_garanties_communes_nouvelles\n",
    "\n",
    "fully_adapted_data_2022 = adapted_data_2021\n",
    "\n",
    "fully_adapted_data_2022 = insert_dsu_garanties(fully_adapted_data_2022, \"2022\", GARANTIES_DSU_PATH)\n",
    "fully_adapted_data_2022 = insert_dsr_garanties_communes_nouvelles(fully_adapted_data_2022, \"2022\")"
   ]
  },
  {
   "cell_type": "code",
   "execution_count": 95,
   "id": "e7afc91f",
   "metadata": {},
   "outputs": [],
   "source": [
    "from scripts.load_dgcl_data import get_last_year_dotations\n",
    "\n",
    "results_2021_as_last_year = get_last_year_dotations(dgcl_data_2021)\n",
    "data_2021_as_last_year = results_2021_as_last_year[\n",
    "        [\n",
    "            \"Informations générales - Code INSEE de la commune\",\n",
    "            \"dsu_montant_eligible\",\n",
    "            \"dsr_montant_eligible_fraction_bourg_centre\",\n",
    "            \"dsr_montant_eligible_fraction_perequation\",\n",
    "            \"dsr_montant_hors_garanties_fraction_cible\",\n",
    "            \"dotation_forfaitaire\",\n",
    "            \"population_dgf_majoree\",\n",
    "        ]\n",
    "    ]"
   ]
  },
  {
   "cell_type": "code",
   "execution_count": 96,
   "id": "1dabbe58",
   "metadata": {},
   "outputs": [
    {
     "name": "stdout",
     "output_type": "stream",
     "text": [
      "(array([32329]),)\n"
     ]
    },
    {
     "name": "stderr",
     "output_type": "stream",
     "text": [
      "/Users/sch/dev/gitruc/openfisca-france-dotations-locales/openfisca_france_dotations_locales/variables/dotation_solidarite_urbaine.py:400: RuntimeWarning: invalid value encountered in true_divide\n",
      "  facteur_qpv = (1 + np.where(population_insee > 0, poids_quartiers_prioritaires_ville * population_qpv / population_insee, 0))\n",
      "/Users/sch/dev/gitruc/openfisca-france-dotations-locales/openfisca_france_dotations_locales/variables/dotation_solidarite_urbaine.py:401: RuntimeWarning: invalid value encountered in true_divide\n",
      "  facteur_zfu = (1 + np.where(population_insee > 0, poids_zone_franche_urbaine * population_zfu / population_insee, 0))\n"
     ]
    },
    {
     "data": {
      "text/plain": [
       "945781.06"
      ]
     },
     "execution_count": 96,
     "metadata": {},
     "output_type": "execute_result"
    }
   ],
   "source": [
    "from scripts.reform import DotationReform\n",
    "from scripts.simulate_dotations import format_reforme_openfisca\n",
    "from scripts.reformePLF_2022_dotations import plf_body_2022\n",
    "\n",
    "tbs = DotationsLocales()\n",
    "\n",
    "reforme_scenario = format_reforme_openfisca(plf_body_2022)\n",
    "tbs_plf_2022 = DotationReform(tbs, reforme_scenario, 2022)\n",
    "\n",
    "simulation_plf_2022 = simulation_from_dgcl_csv(2022, fully_adapted_data_2022, tbs_plf_2022, data_2021_as_last_year)\n",
    "\n",
    "# recettes_reelles_fonctionnement = simulation_plf_2022.calculate(\"recettes_reelles_fonctionnement\", 2022)\n",
    "# print(np.where(recettes_reelles_fonctionnement == 42871089.53))\n",
    "# index_draguignan = 32329\n",
    "\n",
    "dsu_montant_2022 = simulation_plf_2022.calculate('dsu_montant', 2022)\n",
    "dsu_montant_2022[index_draguignan]\n"
   ]
  },
  {
   "cell_type": "code",
   "execution_count": 97,
   "id": "9442b7f6",
   "metadata": {},
   "outputs": [],
   "source": [
    "# !pip list"
   ]
  }
 ],
 "metadata": {
  "celltoolbar": "Format de la Cellule Texte Brut",
  "kernelspec": {
   "display_name": "Python 3 (ipykernel)",
   "language": "python",
   "name": "python3"
  },
  "language_info": {
   "codemirror_mode": {
    "name": "ipython",
    "version": 3
   },
   "file_extension": ".py",
   "mimetype": "text/x-python",
   "name": "python",
   "nbconvert_exporter": "python",
   "pygments_lexer": "ipython3",
   "version": "3.7.10"
  }
 },
 "nbformat": 4,
 "nbformat_minor": 5
}
